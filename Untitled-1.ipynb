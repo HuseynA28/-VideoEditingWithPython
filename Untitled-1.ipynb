{
 "cells": [
  {
   "cell_type": "code",
   "execution_count": 8,
   "metadata": {},
   "outputs": [
    {
     "ename": "ModuleNotFoundError",
     "evalue": "No module named 'moviepy.editor'; 'moviepy' is not a package",
     "output_type": "error",
     "traceback": [
      "\u001b[1;31m---------------------------------------------------------------------------\u001b[0m",
      "\u001b[1;31mModuleNotFoundError\u001b[0m                       Traceback (most recent call last)",
      "Cell \u001b[1;32mIn[8], line 1\u001b[0m\n\u001b[1;32m----> 1\u001b[0m \u001b[38;5;28;01mfrom\u001b[39;00m \u001b[38;5;21;01mmoviepy\u001b[39;00m \u001b[38;5;28;01mimport\u001b[39;00m VideoFileClip, concatenate_videoclips\n\u001b[0;32m      2\u001b[0m \u001b[38;5;28;01mfrom\u001b[39;00m \u001b[38;5;21;01mpydub\u001b[39;00m \u001b[38;5;28;01mimport\u001b[39;00m AudioSegment, silence\n\u001b[0;32m      3\u001b[0m \u001b[38;5;28;01mimport\u001b[39;00m \u001b[38;5;21;01mnumpy\u001b[39;00m \u001b[38;5;28;01mas\u001b[39;00m \u001b[38;5;21;01mnp\u001b[39;00m\n",
      "File \u001b[1;32mc:\\Users\\habdullayev\\Documents\\others\\videoEdit\\moviepy.py:2\u001b[0m\n\u001b[1;32m----> 2\u001b[0m \u001b[38;5;28;01mfrom\u001b[39;00m \u001b[38;5;21;01mmoviepy\u001b[39;00m\u001b[38;5;21;01m.\u001b[39;00m\u001b[38;5;21;01meditor\u001b[39;00m \u001b[38;5;28;01mimport\u001b[39;00m \u001b[38;5;241m*\u001b[39m\n\u001b[0;32m      4\u001b[0m \u001b[38;5;28;01mfrom\u001b[39;00m \u001b[38;5;21;01mmoviepy\u001b[39;00m\u001b[38;5;21;01m.\u001b[39;00m\u001b[38;5;21;01meditor\u001b[39;00m \u001b[38;5;28;01mimport\u001b[39;00m VideoFileClip\n\u001b[0;32m      5\u001b[0m \u001b[38;5;28;01mfrom\u001b[39;00m \u001b[38;5;21;01mmoviepy\u001b[39;00m\u001b[38;5;21;01m.\u001b[39;00m\u001b[38;5;21;01mvideo\u001b[39;00m\u001b[38;5;21;01m.\u001b[39;00m\u001b[38;5;21;01mfx\u001b[39;00m\u001b[38;5;21;01m.\u001b[39;00m\u001b[38;5;21;01mall\u001b[39;00m \u001b[38;5;28;01mimport\u001b[39;00m fadein, fadeout\n",
      "\u001b[1;31mModuleNotFoundError\u001b[0m: No module named 'moviepy.editor'; 'moviepy' is not a package"
     ]
    }
   ],
   "source": [
    "from moviepy import VideoFileClip, concatenate_videoclips\n",
    "from pydub import AudioSegment, silence\n",
    "import numpy as np\n",
    "import tempfile\n",
    "import os\n",
    "\n",
    "def remove_silences_from_video(input_video_path, output_video_path, silence_threshold=-50, silence_duration=1500, padding=500):\n",
    "    video = VideoFileClip(input_video_path)\n",
    "    audio = video.audio\n",
    "    temp_audio_file = tempfile.NamedTemporaryFile(suffix='.wav', delete=False)\n",
    "    audio.write_audiofile(temp_audio_file.name)\n",
    "    \n",
    "    audio_segment = AudioSegment.from_wav(temp_audio_file.name)\n",
    "    silent_ranges = silence.detect_silence(audio_segment, min_silence_len=silence_duration, silence_thresh=silence_threshold)\n",
    "    silent_ranges = [(max(0, start-padding), min(len(audio_segment), end+padding)) for start, end in silent_ranges]\n",
    "    \n",
    "    sound_ranges = []\n",
    "    last_end = 0\n",
    "    for start, end in silent_ranges:\n",
    "        if last_end < start:\n",
    "            sound_ranges.append((last_end, start))\n",
    "        last_end = end\n",
    "    if last_end < len(audio_segment):\n",
    "        sound_ranges.append((last_end, len(audio_segment)))\n",
    "    \n",
    "    clips = []\n",
    "    for start, end in sound_ranges:\n",
    "        start_time = start / 1000.0\n",
    "        end_time = end / 1000.0\n",
    "        clips.append(video.subclip(start_time, end_time))\n",
    "    \n",
    "    final_clip = concatenate_videoclips(clips)\n",
    "    final_clip.write_videofile(output_video_path, codec='libx264', audio_codec='aac', preset='slow', \n",
    "                               ffmpeg_params=['-crf', '18'], audio_bitrate='192k')\n",
    "    \n",
    "    os.remove(temp_audio_file.name)\n",
    "\n",
    "def determine_silence_threshold(audio_segment, silence_duration=1500):\n",
    "    chunk_length = silence_duration // 10  # shorter chunks for analysis\n",
    "    loudness = [audio_segment[i:i+chunk_length].dBFS for i in range(0, len(audio_segment), chunk_length)]\n",
    "\n",
    "    hist, bin_edges = np.histogram(loudness, bins=100)\n",
    "\n",
    "    peak_loudness_index = np.argmax(hist)\n",
    "    silence_threshold = bin_edges[peak_loudness_index]\n",
    "    \n",
    "    silence_threshold -= 5  \n",
    "\n",
    "    return silence_threshold\n",
    "\n",
    "def extract_audio_from_video(input_video_path):\n",
    "    from moviepy.editor import VideoFileClip\n",
    "    \n",
    "    video = VideoFileClip(input_video_path)\n",
    "    audio = video.audio\n",
    "    temp_audio_file = tempfile.NamedTemporaryFile(suffix='.wav', delete=False)\n",
    "    audio.write_audiofile(temp_audio_file.name)\n",
    "    \n",
    "    return temp_audio_file.name\n",
    "\n",
    "def get_silence_threshold(input_video_path):\n",
    "    temp_audio_file = extract_audio_from_video(input_video_path)\n",
    "    \n",
    "    audio_segment = AudioSegment.from_wav(temp_audio_file)\n",
    "    \n",
    "    silence_threshold = determine_silence_threshold(audio_segment)    \n",
    "    os.remove(temp_audio_file)\n",
    "    return int(silence_threshold -8) #tweak the level by adding or substracting as per your taste.\n",
    "\n",
    "if __name__ == __main__:\n",
    "  input_file_path = 'Pandas 1.mp4'\n",
    "  remove_silences_from_video(\n",
    "      input_video_path=input_file_path,\n",
    "      output_video_path='output.mp4',\n",
    "      silence_threshold= get_silence_threshold(input_file_path),\n",
    "      silence_duration=1500,  # Silence duration threshold in ms\n",
    "      padding=500  # Padding in ms, helps in creating smoother transitions between audio segments.\n",
    "  )"
   ]
  },
  {
   "cell_type": "code",
   "execution_count": 7,
   "metadata": {},
   "outputs": [
    {
     "name": "stdout",
     "output_type": "stream",
     "text": [
      "Collecting pydubNote: you may need to restart the kernel to use updated packages.\n",
      "\n",
      "  Obtaining dependency information for pydub from https://files.pythonhosted.org/packages/a6/53/d78dc063216e62fc55f6b2eebb447f6a4b0a59f55c8406376f76bf959b08/pydub-0.25.1-py2.py3-none-any.whl.metadata\n",
      "  Downloading pydub-0.25.1-py2.py3-none-any.whl.metadata (1.4 kB)\n",
      "Downloading pydub-0.25.1-py2.py3-none-any.whl (32 kB)\n",
      "Installing collected packages: pydub\n",
      "Successfully installed pydub-0.25.1\n"
     ]
    },
    {
     "name": "stderr",
     "output_type": "stream",
     "text": [
      "\n",
      "[notice] A new release of pip is available: 23.2.1 -> 24.3.1\n",
      "[notice] To update, run: python.exe -m pip install --upgrade pip\n"
     ]
    }
   ],
   "source": [
    "pip install pydub"
   ]
  },
  {
   "cell_type": "code",
   "execution_count": 1,
   "metadata": {},
   "outputs": [
    {
     "name": "stdout",
     "output_type": "stream",
     "text": [
      "hello\n"
     ]
    }
   ],
   "source": [
    "print(\"hello\")"
   ]
  }
 ],
 "metadata": {
  "kernelspec": {
   "display_name": "Python 3",
   "language": "python",
   "name": "python3"
  },
  "language_info": {
   "codemirror_mode": {
    "name": "ipython",
    "version": 3
   },
   "file_extension": ".py",
   "mimetype": "text/x-python",
   "name": "python",
   "nbconvert_exporter": "python",
   "pygments_lexer": "ipython3",
   "version": "3.11.5"
  }
 },
 "nbformat": 4,
 "nbformat_minor": 2
}
